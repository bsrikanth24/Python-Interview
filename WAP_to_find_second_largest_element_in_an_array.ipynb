{
  "nbformat": 4,
  "nbformat_minor": 0,
  "metadata": {
    "colab": {
      "provenance": [],
      "authorship_tag": "ABX9TyPJtgImJN+ZbX28gmC45F7j",
      "include_colab_link": true
    },
    "kernelspec": {
      "name": "python3",
      "display_name": "Python 3"
    },
    "language_info": {
      "name": "python"
    }
  },
  "cells": [
    {
      "cell_type": "markdown",
      "metadata": {
        "id": "view-in-github",
        "colab_type": "text"
      },
      "source": [
        "<a href=\"https://colab.research.google.com/github/bsrikanth24/Python-practice/blob/main/WAP_to_find_second_largest_element_in_an_array.ipynb\" target=\"_parent\"><img src=\"https://colab.research.google.com/assets/colab-badge.svg\" alt=\"Open In Colab\"/></a>"
      ]
    },
    {
      "cell_type": "code",
      "execution_count": 23,
      "metadata": {
        "colab": {
          "base_uri": "https://localhost:8080/"
        },
        "id": "IIBADkAhcciv",
        "outputId": "ffda78cf-0127-4775-f16d-7e46bdb8b2eb"
      },
      "outputs": [
        {
          "output_type": "stream",
          "name": "stdout",
          "text": [
            "Largest: 9\n",
            "Second Largest: 8\n"
          ]
        }
      ],
      "source": [
        "# Python code to get second largest element in an array\n",
        "from array import array\n",
        "\n",
        "# Create an array of integers using 'i' typecode (signed int)\n",
        "arr = array('i', range(10))  # Same as [0, 1, 2, ..., 9]\n",
        "\n",
        "if len(arr) < 2:\n",
        "    print(\"Not enough elements\")\n",
        "else:\n",
        "    # Initialize largest and second_largest from the first two elements\n",
        "    largest, second_largest = sorted(arr[:2])\n",
        "\n",
        "    for x in arr[2:]:\n",
        "        if x > largest:\n",
        "          largest, second_largest = x, largest\n",
        "        elif x > second_largest:\n",
        "            second_largest = x\n",
        "\n",
        "    print(\"Largest:\", largest)\n",
        "    print(\"Second Largest:\", second_largest)"
      ]
    }
  ]
}