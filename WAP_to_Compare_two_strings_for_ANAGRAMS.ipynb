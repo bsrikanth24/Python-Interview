{
  "nbformat": 4,
  "nbformat_minor": 0,
  "metadata": {
    "colab": {
      "provenance": [],
      "authorship_tag": "ABX9TyOWiGyzsSEccV2UzAyOEpFt",
      "include_colab_link": true
    },
    "kernelspec": {
      "name": "python3",
      "display_name": "Python 3"
    },
    "language_info": {
      "name": "python"
    }
  },
  "cells": [
    {
      "cell_type": "markdown",
      "metadata": {
        "id": "view-in-github",
        "colab_type": "text"
      },
      "source": [
        "<a href=\"https://colab.research.google.com/github/bsrikanth24/Python-practice/blob/main/WAP_to_Compare_two_strings_for_ANAGRAMS.ipynb\" target=\"_parent\"><img src=\"https://colab.research.google.com/assets/colab-badge.svg\" alt=\"Open In Colab\"/></a>"
      ]
    },
    {
      "cell_type": "code",
      "execution_count": 9,
      "metadata": {
        "colab": {
          "base_uri": "https://localhost:8080/"
        },
        "id": "IIBADkAhcciv",
        "outputId": "4906881d-1cd6-4229-caf3-91b93d2f201e"
      },
      "outputs": [
        {
          "output_type": "stream",
          "name": "stdout",
          "text": [
            "Anagram\n"
          ]
        }
      ],
      "source": [
        "def anagram(s):\n",
        "    string_list = []\n",
        "    for ch in s.lower():\n",
        "        string_list.append(ch)\n",
        "\n",
        "    string_dict = {}\n",
        "    for ch in string_list:\n",
        "        if ch not in string_dict:\n",
        "            string_dict[ch] = 1\n",
        "        else:\n",
        "            string_dict[ch] = string_dict[ch] + 1\n",
        "\n",
        "    return string_dict\n",
        "\n",
        "s1 = \"Listen\"\n",
        "s2 = \"Silent\"\n",
        "# s2 = \"India\"\n",
        "\n",
        "a = anagram(s1)\n",
        "b = anagram(s2)\n",
        "\n",
        "if a == b:\n",
        "  print (\"Anagram\")\n",
        "else:\n",
        "  print (\"Not Anagram\")"
      ]
    }
  ]
}