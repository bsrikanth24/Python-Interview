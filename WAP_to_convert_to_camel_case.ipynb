{
  "nbformat": 4,
  "nbformat_minor": 0,
  "metadata": {
    "colab": {
      "provenance": [],
      "authorship_tag": "ABX9TyMVPAzi1fQFpvRJDs6etngD",
      "include_colab_link": true
    },
    "kernelspec": {
      "name": "python3",
      "display_name": "Python 3"
    },
    "language_info": {
      "name": "python"
    }
  },
  "cells": [
    {
      "cell_type": "markdown",
      "metadata": {
        "id": "view-in-github",
        "colab_type": "text"
      },
      "source": [
        "<a href=\"https://colab.research.google.com/github/bsrikanth24/Python-practice/blob/main/WAP_to_convert_to_camel_case.ipynb\" target=\"_parent\"><img src=\"https://colab.research.google.com/assets/colab-badge.svg\" alt=\"Open In Colab\"/></a>"
      ]
    },
    {
      "cell_type": "code",
      "execution_count": 24,
      "metadata": {
        "colab": {
          "base_uri": "https://localhost:8080/"
        },
        "id": "IIBADkAhcciv",
        "outputId": "4c63124b-b74a-4a95-98f3-bce7810e1155"
      },
      "outputs": [
        {
          "output_type": "stream",
          "name": "stdout",
          "text": [
            "theStealthWarrior\n"
          ]
        }
      ],
      "source": [
        "def to_camel_case(text):\n",
        "    s = text.replace(\"-\", \" \").replace(\"_\", \" \")\n",
        "    s = s.split()\n",
        "    if len(text) == 0:\n",
        "        return text\n",
        "    return s[0] + ''.join(i.capitalize() for i in s[1:])\n",
        "\n",
        "print(to_camel_case('the-stealth-warrior'))"
      ]
    }
  ]
}