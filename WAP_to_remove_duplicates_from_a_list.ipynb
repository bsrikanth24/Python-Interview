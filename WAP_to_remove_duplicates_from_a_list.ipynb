{
  "nbformat": 4,
  "nbformat_minor": 0,
  "metadata": {
    "colab": {
      "provenance": [],
      "authorship_tag": "ABX9TyNKJXtH3DUwNPYU/nDHTVLW",
      "include_colab_link": true
    },
    "kernelspec": {
      "name": "python3",
      "display_name": "Python 3"
    },
    "language_info": {
      "name": "python"
    }
  },
  "cells": [
    {
      "cell_type": "markdown",
      "metadata": {
        "id": "view-in-github",
        "colab_type": "text"
      },
      "source": [
        "<a href=\"https://colab.research.google.com/github/bsrikanth24/Python-practice/blob/main/WAP_to_remove_duplicates_from_a_list.ipynb\" target=\"_parent\"><img src=\"https://colab.research.google.com/assets/colab-badge.svg\" alt=\"Open In Colab\"/></a>"
      ]
    },
    {
      "cell_type": "code",
      "execution_count": 4,
      "metadata": {
        "colab": {
          "base_uri": "https://localhost:8080/"
        },
        "id": "IIBADkAhcciv",
        "outputId": "1139f65d-822b-4a3f-c8c9-c0b21a53fe3f"
      },
      "outputs": [
        {
          "output_type": "stream",
          "name": "stdout",
          "text": [
            "[1, 2]\n",
            "[0, 1, 2, 3, 4]\n",
            "[1, 2, 3, 5, 6, 8, 9, 10, 11, 14, 20, 25, 26]\n"
          ]
        }
      ],
      "source": [
        "List1 = [1,1,2]\n",
        "List2 = [0, 0,1, 1, 1, 2, 2, 3, 3, 4]\n",
        "List3 = [1,1,2,3,3,5,6,6,6,6,6,6,6,8,8,9,10,10,11,14,20,25,25,26,26,26]\n",
        "\n",
        "def duplicates_remover(list):\n",
        "\n",
        "    temp = []\n",
        "\n",
        "    for x in list:\n",
        "        if x not in temp:\n",
        "            temp.append(x)\n",
        "\n",
        "    print(temp)\n",
        "\n",
        "duplicates_remover(List1)\n",
        "duplicates_remover(List2)\n",
        "duplicates_remover(List3)"
      ]
    }
  ]
}