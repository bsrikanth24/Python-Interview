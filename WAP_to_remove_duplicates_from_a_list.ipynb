{
  "nbformat": 4,
  "nbformat_minor": 0,
  "metadata": {
    "colab": {
      "provenance": [],
      "authorship_tag": "ABX9TyPvQQUPLhiT5YckAaJBIPcR",
      "include_colab_link": true
    },
    "kernelspec": {
      "name": "python3",
      "display_name": "Python 3"
    },
    "language_info": {
      "name": "python"
    }
  },
  "cells": [
    {
      "cell_type": "markdown",
      "metadata": {
        "id": "view-in-github",
        "colab_type": "text"
      },
      "source": [
        "<a href=\"https://colab.research.google.com/github/bsrikanth24/Python-practice/blob/main/WAP_to_remove_duplicates_from_a_list.ipynb\" target=\"_parent\"><img src=\"https://colab.research.google.com/assets/colab-badge.svg\" alt=\"Open In Colab\"/></a>"
      ]
    },
    {
      "cell_type": "code",
      "execution_count": 5,
      "metadata": {
        "colab": {
          "base_uri": "https://localhost:8080/"
        },
        "id": "IIBADkAhcciv",
        "outputId": "0bca0e88-0351-48a1-dea9-27e0514f709d"
      },
      "outputs": [
        {
          "output_type": "stream",
          "name": "stdout",
          "text": [
            "[10, 20, 30, 40, 50]\n"
          ]
        }
      ],
      "source": [
        "List1 = [1,1,2]\n",
        "List2 = [0, 0,1, 1, 1, 2, 2, 3, 3, 4]\n",
        "List3 = [1,1,2,3,3,5,6,6,6,6,6,6,6,8,8,9,10,10,11,14,20,25,25,26,26,26]\n",
        "\n",
        "def duplicates_remover(list):\n",
        "\n",
        "    temp = []\n",
        "\n",
        "    for x in list:\n",
        "        if x not in temp:\n",
        "            temp.append(x)\n",
        "\n",
        "    print(temp)\n",
        "\n",
        "duplicates_remover(List1)\n",
        "duplicates_remover(List2)\n",
        "duplicates_remover(List3)\n",
        "\n",
        "\n",
        "# original_list = [10, 20, 10, 30, 20, 40, 50]\n",
        "# seen = set()\n",
        "# result = [x for x in original_list if x not in seen and not seen.add(x)]\n",
        "# print(result)"
      ]
    }
  ]
}