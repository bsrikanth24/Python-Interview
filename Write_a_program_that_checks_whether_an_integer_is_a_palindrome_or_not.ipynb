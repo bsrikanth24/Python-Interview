{
  "nbformat": 4,
  "nbformat_minor": 0,
  "metadata": {
    "colab": {
      "provenance": [],
      "authorship_tag": "ABX9TyM07Aw2nF+fc+xuvhfKuR3f",
      "include_colab_link": true
    },
    "kernelspec": {
      "name": "python3",
      "display_name": "Python 3"
    },
    "language_info": {
      "name": "python"
    }
  },
  "cells": [
    {
      "cell_type": "markdown",
      "metadata": {
        "id": "view-in-github",
        "colab_type": "text"
      },
      "source": [
        "<a href=\"https://colab.research.google.com/github/bsrikanth24/Python-practice/blob/main/Write_a_program_that_checks_whether_an_integer_is_a_palindrome_or_not.ipynb\" target=\"_parent\"><img src=\"https://colab.research.google.com/assets/colab-badge.svg\" alt=\"Open In Colab\"/></a>"
      ]
    },
    {
      "cell_type": "code",
      "execution_count": 30,
      "metadata": {
        "colab": {
          "base_uri": "https://localhost:8080/"
        },
        "id": "IIBADkAhcciv",
        "outputId": "4d5513cb-2bd1-457a-ca57-6a320933db49"
      },
      "outputs": [
        {
          "output_type": "stream",
          "name": "stdout",
          "text": [
            "Enter an integer to check if it's a palindrome: 121\n",
            "121 is a palindrome.\n"
          ]
        }
      ],
      "source": [
        "def isPalindrome_alternative(x):\n",
        "    # If no is negative\n",
        "    # If last digit is 0 and no is not 0\n",
        "    if x < 0  or (x % 10 == 0 and x != 0):\n",
        "        return False\n",
        "    rev = 0\n",
        "    while x > rev:\n",
        "        rev = (rev*10) + (x%10)\n",
        "        x //= 10\n",
        "    # When the length is an odd number, we can get rid of the middle digit by rev/10\n",
        "    return rev == x or rev//10 == x\n",
        "\n",
        "num = int(input(\"Enter an integer to check if it's a palindrome: \"))\n",
        "\n",
        "if isPalindrome_alternative(num):\n",
        "    print(f\"{num} is a palindrome.\")\n",
        "else:\n",
        "    print(f\"{num} is not a palindrome.\")"
      ]
    }
  ]
}