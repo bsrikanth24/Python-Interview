{
  "nbformat": 4,
  "nbformat_minor": 0,
  "metadata": {
    "colab": {
      "provenance": [],
      "authorship_tag": "ABX9TyPRKjKrO6/lCO0ChqxBx4Gb",
      "include_colab_link": true
    },
    "kernelspec": {
      "name": "python3",
      "display_name": "Python 3"
    },
    "language_info": {
      "name": "python"
    }
  },
  "cells": [
    {
      "cell_type": "markdown",
      "metadata": {
        "id": "view-in-github",
        "colab_type": "text"
      },
      "source": [
        "<a href=\"https://colab.research.google.com/github/bsrikanth24/Python-practice/blob/main/WAP_to_find_second_largest_number_in_the_list_data%2C_which_contains_numbers_from_0_to_100.ipynb\" target=\"_parent\"><img src=\"https://colab.research.google.com/assets/colab-badge.svg\" alt=\"Open In Colab\"/></a>"
      ]
    },
    {
      "cell_type": "code",
      "execution_count": 21,
      "metadata": {
        "colab": {
          "base_uri": "https://localhost:8080/"
        },
        "id": "IIBADkAhcciv",
        "outputId": "b317afd0-7494-4a71-e22e-bd0f8d615696"
      },
      "outputs": [
        {
          "output_type": "stream",
          "name": "stdout",
          "text": [
            "99\n"
          ]
        }
      ],
      "source": [
        "import heapq\n",
        "\n",
        "data = list(range(100))\n",
        "data.append(100)\n",
        "print(heapq.nlargest(2, data)[1])"
      ]
    }
  ]
}