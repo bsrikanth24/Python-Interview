{
  "nbformat": 4,
  "nbformat_minor": 0,
  "metadata": {
    "colab": {
      "provenance": [],
      "authorship_tag": "ABX9TyNkoPH15ONDpeGedlEo8O0i",
      "include_colab_link": true
    },
    "kernelspec": {
      "name": "python3",
      "display_name": "Python 3"
    },
    "language_info": {
      "name": "python"
    }
  },
  "cells": [
    {
      "cell_type": "markdown",
      "metadata": {
        "id": "view-in-github",
        "colab_type": "text"
      },
      "source": [
        "<a href=\"https://colab.research.google.com/github/bsrikanth24/Python-practice/blob/main/WAP_to_find_second_largest_element_in_the_list.ipynb\" target=\"_parent\"><img src=\"https://colab.research.google.com/assets/colab-badge.svg\" alt=\"Open In Colab\"/></a>"
      ]
    },
    {
      "cell_type": "code",
      "execution_count": 22,
      "metadata": {
        "colab": {
          "base_uri": "https://localhost:8080/"
        },
        "id": "IIBADkAhcciv",
        "outputId": "595263e9-216c-45e8-b14d-77ba4a431b41"
      },
      "outputs": [
        {
          "output_type": "stream",
          "name": "stdout",
          "text": [
            "Largest: 9\n",
            "Second Largest: 8\n"
          ]
        }
      ],
      "source": [
        "# Python code to get second largest element in a list\n",
        "\n",
        "lst = list(range(10))\n",
        "\n",
        "if len(lst) < 2:\n",
        "    print(\"Not enough elements\")\n",
        "else:\n",
        "    largest, second_largest = sorted(lst[:2])\n",
        "    for x in lst[2:]:\n",
        "        if x > largest:\n",
        "            largest, second_largest = x, largest\n",
        "        elif x > second_largest:\n",
        "            second_largest = x\n",
        "    print(\"Largest:\", largest)\n",
        "    print(\"Second Largest:\", second_largest)"
      ]
    }
  ]
}