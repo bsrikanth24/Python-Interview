{
  "nbformat": 4,
  "nbformat_minor": 0,
  "metadata": {
    "colab": {
      "provenance": [],
      "authorship_tag": "ABX9TyP0rZ0MFlmjzI+CTgRjGGjF",
      "include_colab_link": true
    },
    "kernelspec": {
      "name": "python3",
      "display_name": "Python 3"
    },
    "language_info": {
      "name": "python"
    }
  },
  "cells": [
    {
      "cell_type": "markdown",
      "metadata": {
        "id": "view-in-github",
        "colab_type": "text"
      },
      "source": [
        "<a href=\"https://colab.research.google.com/github/bsrikanth24/Python-Interview/blob/main/JPMC.ipynb\" target=\"_parent\"><img src=\"https://colab.research.google.com/assets/colab-badge.svg\" alt=\"Open In Colab\"/></a>"
      ]
    },
    {
      "cell_type": "markdown",
      "source": [
        "Creating a Dictionary from a List"
      ],
      "metadata": {
        "id": "6sFyfiL3iKUE"
      }
    },
    {
      "cell_type": "code",
      "execution_count": 1,
      "metadata": {
        "colab": {
          "base_uri": "https://localhost:8080/"
        },
        "id": "HSAqo4JphX7H",
        "outputId": "9dd53f7c-449a-48d4-8e69-c8c1e38cec7c"
      },
      "outputs": [
        {
          "output_type": "stream",
          "name": "stdout",
          "text": [
            "{1: 2, 4: 2, 9: 2, 16: 2}\n"
          ]
        }
      ],
      "source": [
        "nums = [1, 2, 3, 4]\n",
        "dict = {num ** 2: 2 for num in nums}\n",
        "print(dict)"
      ]
    },
    {
      "cell_type": "markdown",
      "source": [
        "Print occurence of every 5th value in  python"
      ],
      "metadata": {
        "id": "9xpRnnQGiRtM"
      }
    },
    {
      "cell_type": "code",
      "source": [
        "nums = list(range(16))\n",
        "print(nums [::5])"
      ],
      "metadata": {
        "colab": {
          "base_uri": "https://localhost:8080/"
        },
        "id": "tdnSXc_JiPe1",
        "outputId": "55a019e7-67c9-47e5-c2bc-8e9382eadbef"
      },
      "execution_count": 2,
      "outputs": [
        {
          "output_type": "stream",
          "name": "stdout",
          "text": [
            "[0, 5, 10, 15]\n"
          ]
        }
      ]
    },
    {
      "cell_type": "markdown",
      "source": [
        "Print  every 5th value from last"
      ],
      "metadata": {
        "id": "a8H3W7U-izG-"
      }
    },
    {
      "cell_type": "code",
      "source": [
        "def print_every_5th_from_last(numbers):\n",
        "  return numbers[::-5]\n",
        "\n",
        "numbers = list(range(16))\n",
        "print(print_every_5th_from_last(numbers))"
      ],
      "metadata": {
        "colab": {
          "base_uri": "https://localhost:8080/"
        },
        "id": "nx2e5VOXi3Al",
        "outputId": "3d6253c9-a66d-4652-ac58-fa7f56475463"
      },
      "execution_count": 5,
      "outputs": [
        {
          "output_type": "stream",
          "name": "stdout",
          "text": [
            "[15, 10, 5, 0]\n"
          ]
        }
      ]
    },
    {
      "cell_type": "markdown",
      "source": [],
      "metadata": {
        "id": "NV1SHdsEixA_"
      }
    }
  ]
}