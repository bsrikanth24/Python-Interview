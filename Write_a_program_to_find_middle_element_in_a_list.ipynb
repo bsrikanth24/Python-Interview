{
  "nbformat": 4,
  "nbformat_minor": 0,
  "metadata": {
    "colab": {
      "provenance": [],
      "authorship_tag": "ABX9TyPnPtShMko+WemCx13DOlk4",
      "include_colab_link": true
    },
    "kernelspec": {
      "name": "python3",
      "display_name": "Python 3"
    },
    "language_info": {
      "name": "python"
    }
  },
  "cells": [
    {
      "cell_type": "markdown",
      "metadata": {
        "id": "view-in-github",
        "colab_type": "text"
      },
      "source": [
        "<a href=\"https://colab.research.google.com/github/bsrikanth24/Python-practice/blob/main/Write_a_program_to_find_middle_element_in_a_list.ipynb\" target=\"_parent\"><img src=\"https://colab.research.google.com/assets/colab-badge.svg\" alt=\"Open In Colab\"/></a>"
      ]
    },
    {
      "cell_type": "code",
      "execution_count": 1,
      "metadata": {
        "colab": {
          "base_uri": "https://localhost:8080/"
        },
        "id": "IIBADkAhcciv",
        "outputId": "95c9803e-5d86-422e-fab2-bcf25b3f37e8"
      },
      "outputs": [
        {
          "output_type": "stream",
          "name": "stdout",
          "text": [
            "23\n"
          ]
        }
      ],
      "source": [
        "# def findMiddle(input_list):\n",
        "#      length = len(input_list)\n",
        "#      middle = length // 2\n",
        "#      if length % 2 != 0:\n",
        "#          return input_list(middle)\n",
        "#      else:\n",
        "#          return (input_list[middle - 1], input_list[middle])\n",
        "\n",
        "# # input_list = [12, 3, 55, 23, 6, 78, 33, 5]\n",
        "# input_list = [12, 3, 55, 23, 78, 33, 5]\n",
        "# result = findMiddle(input_list)\n",
        "# print(result)\n",
        "\n",
        "def findMiddle(input_list):\n",
        "    # Calculates the total number of elements in the list.\n",
        "    length = len(input_list)\n",
        "    # Uses integer division to find the middle index.\n",
        "    middle = length // 2\n",
        "    # Checking if the List Length is Odd or Even\n",
        "# If odd: The function returns the single middle element.\n",
        "# If even: The function returns a tuple containing the two middle elements.\n",
        "    if length % 2 != 0:\n",
        "        return input_list[middle]\n",
        "    else:\n",
        "        return (input_list[middle - 1], input_list[middle])\n",
        "\n",
        "# Example usage:\n",
        "input_list = [12, 3, 55, 23, 78, 33, 5]\n",
        "result = findMiddle(input_list)\n",
        "print(result)"
      ]
    }
  ]
}