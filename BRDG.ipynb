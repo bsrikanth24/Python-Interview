{
  "nbformat": 4,
  "nbformat_minor": 0,
  "metadata": {
    "colab": {
      "provenance": [],
      "authorship_tag": "ABX9TyPktFIAZia8rRCtDZa+GAN+",
      "include_colab_link": true
    },
    "kernelspec": {
      "name": "python3",
      "display_name": "Python 3"
    },
    "language_info": {
      "name": "python"
    }
  },
  "cells": [
    {
      "cell_type": "markdown",
      "metadata": {
        "id": "view-in-github",
        "colab_type": "text"
      },
      "source": [
        "<a href=\"https://colab.research.google.com/github/bsrikanth24/Python-practice/blob/main/BRDG.ipynb\" target=\"_parent\"><img src=\"https://colab.research.google.com/assets/colab-badge.svg\" alt=\"Open In Colab\"/></a>"
      ]
    },
    {
      "cell_type": "code",
      "source": [
        "my_string = 'INDIA'\n",
        "print([f\"{character}: {my_string.count(character)}\" for character in({*my_string})])"
      ],
      "metadata": {
        "colab": {
          "base_uri": "https://localhost:8080/"
        },
        "id": "HhCkwnLGPYWS",
        "outputId": "8cb91145-5341-4bfb-a93d-b9f645863b08"
      },
      "execution_count": 5,
      "outputs": [
        {
          "output_type": "stream",
          "name": "stdout",
          "text": [
            "['N: 1', 'I: 2', 'D: 1', 'A: 1']\n"
          ]
        }
      ]
    },
    {
      "cell_type": "code",
      "source": [
        "arr = [1, 2, 3, 1, 2, 45, 5, 5]\n",
        "\n",
        "# To keep track of elements we have already counted\n",
        "visited = []\n",
        "\n",
        "for i in range(len(arr)):\n",
        "    if arr[i] not in visited:\n",
        "        count = 1\n",
        "        for j in range(i + 1, len(arr)):\n",
        "            if arr[j] == arr[i]:\n",
        "                count += 1\n",
        "        if count > 1:\n",
        "            print(f\"Element {arr[i]} occurs {count} times\")\n",
        "        visited.append(arr[i])"
      ],
      "metadata": {
        "colab": {
          "base_uri": "https://localhost:8080/"
        },
        "id": "QFh7XWR3P7Zp",
        "outputId": "8cfcbe60-4765-45e4-8568-429a02120491"
      },
      "execution_count": 6,
      "outputs": [
        {
          "output_type": "stream",
          "name": "stdout",
          "text": [
            "Element 1 occurs 2 times\n",
            "Element 2 occurs 2 times\n",
            "Element 5 occurs 2 times\n"
          ]
        }
      ]
    },
    {
      "cell_type": "code",
      "source": [
        "# Using a list comprehension\n",
        "\n",
        "import re\n",
        "\n",
        "input_str = \"He@llo, wo#rl?d!\"\n",
        "# This regex replaces any character that is NOT a letter, digit, or whitespace with an empty string\n",
        "output_str = re.sub(r'[^A-Za-z0-9\\s]', '', input_str)\n",
        "print(output_str)"
      ],
      "metadata": {
        "colab": {
          "base_uri": "https://localhost:8080/"
        },
        "id": "hx6Gx9A9QFR5",
        "outputId": "c33e2dc6-2e4c-475d-ad08-6a4cf4cf7c1d"
      },
      "execution_count": 8,
      "outputs": [
        {
          "output_type": "stream",
          "name": "stdout",
          "text": [
            "Hello world\n"
          ]
        }
      ]
    }
  ]
}