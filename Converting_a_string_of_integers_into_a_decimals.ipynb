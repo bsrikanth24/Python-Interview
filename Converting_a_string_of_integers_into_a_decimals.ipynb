{
  "nbformat": 4,
  "nbformat_minor": 0,
  "metadata": {
    "colab": {
      "provenance": [],
      "authorship_tag": "ABX9TyMhuhH5wWl3wl7s/lFZGJVx",
      "include_colab_link": true
    },
    "kernelspec": {
      "name": "python3",
      "display_name": "Python 3"
    },
    "language_info": {
      "name": "python"
    }
  },
  "cells": [
    {
      "cell_type": "markdown",
      "metadata": {
        "id": "view-in-github",
        "colab_type": "text"
      },
      "source": [
        "<a href=\"https://colab.research.google.com/github/bsrikanth24/Python-practice/blob/main/Converting_a_string_of_integers_into_a_decimals.ipynb\" target=\"_parent\"><img src=\"https://colab.research.google.com/assets/colab-badge.svg\" alt=\"Open In Colab\"/></a>"
      ]
    },
    {
      "cell_type": "code",
      "execution_count": 18,
      "metadata": {
        "colab": {
          "base_uri": "https://localhost:8080/"
        },
        "id": "IIBADkAhcciv",
        "outputId": "f3fbe85f-325b-45ff-e41c-447af56ac55d"
      },
      "outputs": [
        {
          "output_type": "stream",
          "name": "stdout",
          "text": [
            "12345\n"
          ]
        }
      ],
      "source": [
        "from decimal import Decimal\n",
        "# s = '12345'\n",
        "str = '12345'\n",
        "print(int(Decimal(str)))"
      ]
    }
  ]
}