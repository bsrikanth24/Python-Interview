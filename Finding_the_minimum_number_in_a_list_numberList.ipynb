{
  "nbformat": 4,
  "nbformat_minor": 0,
  "metadata": {
    "colab": {
      "provenance": [],
      "authorship_tag": "ABX9TyM+7wvikW/1FzKAtf+oWhh6",
      "include_colab_link": true
    },
    "kernelspec": {
      "name": "python3",
      "display_name": "Python 3"
    },
    "language_info": {
      "name": "python"
    }
  },
  "cells": [
    {
      "cell_type": "markdown",
      "metadata": {
        "id": "view-in-github",
        "colab_type": "text"
      },
      "source": [
        "<a href=\"https://colab.research.google.com/github/bsrikanth24/Python-practice/blob/main/Finding_the_minimum_number_in_a_list_numberList.ipynb\" target=\"_parent\"><img src=\"https://colab.research.google.com/assets/colab-badge.svg\" alt=\"Open In Colab\"/></a>"
      ]
    },
    {
      "cell_type": "code",
      "execution_count": 15,
      "metadata": {
        "colab": {
          "base_uri": "https://localhost:8080/"
        },
        "id": "IIBADkAhcciv",
        "outputId": "1ac6fbc5-8d73-4620-f227-0f5aa2aad6f2"
      },
      "outputs": [
        {
          "output_type": "stream",
          "name": "stdout",
          "text": [
            "[12, 3, 55, 23, 6, 78, 33, 4] 3 1\n"
          ]
        }
      ],
      "source": [
        "numberList = [12, 3, 55, 23, 6, 78, 33, 4]\n",
        "min_val = numberList[0]\n",
        "idx_min = 0\n",
        "\n",
        "for i in range(1, len(numberList)):\n",
        "    if numberList[i] < min_val:\n",
        "        min_val = numberList[i]\n",
        "        idx_min = i\n",
        "\n",
        "print(numberList, min_val, idx_min)"
      ]
    }
  ]
}