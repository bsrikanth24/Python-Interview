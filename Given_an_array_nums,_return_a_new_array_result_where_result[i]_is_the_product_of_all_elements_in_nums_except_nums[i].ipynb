{
  "nbformat": 4,
  "nbformat_minor": 0,
  "metadata": {
    "colab": {
      "provenance": [],
      "authorship_tag": "ABX9TyM9P0iYT0eHQ4YC8gE/KNsX",
      "include_colab_link": true
    },
    "kernelspec": {
      "name": "python3",
      "display_name": "Python 3"
    },
    "language_info": {
      "name": "python"
    }
  },
  "cells": [
    {
      "cell_type": "markdown",
      "metadata": {
        "id": "view-in-github",
        "colab_type": "text"
      },
      "source": [
        "<a href=\"https://colab.research.google.com/github/bsrikanth24/Python-practice/blob/main/Given_an_array_nums%2C_return_a_new_array_result_where_result%5Bi%5D_is_the_product_of_all_elements_in_nums_except_nums%5Bi%5D.ipynb\" target=\"_parent\"><img src=\"https://colab.research.google.com/assets/colab-badge.svg\" alt=\"Open In Colab\"/></a>"
      ]
    },
    {
      "cell_type": "code",
      "execution_count": 32,
      "metadata": {
        "colab": {
          "base_uri": "https://localhost:8080/"
        },
        "id": "IIBADkAhcciv",
        "outputId": "4842f1f3-c7bc-482e-aef1-fbeff6e8dbdd"
      },
      "outputs": [
        {
          "output_type": "stream",
          "name": "stdout",
          "text": [
            "[24, 12, 8, 6]\n"
          ]
        }
      ],
      "source": [
        "nums = [1, 2, 3, 4]\n",
        "\n",
        "def productExceptSelf(nums):\n",
        "    p = 1\n",
        "    n = len(nums)\n",
        "    result = []\n",
        "    for i in range(n):\n",
        "        result.append(p)\n",
        "        p = p * nums[i]\n",
        "    s = 1\n",
        "    for i in range(n-1,-1,-1):\n",
        "        result[i] = result[i] * s\n",
        "        s = s * nums[i]\n",
        "    return result\n",
        "\n",
        "print(productExceptSelf(nums))"
      ]
    }
  ]
}