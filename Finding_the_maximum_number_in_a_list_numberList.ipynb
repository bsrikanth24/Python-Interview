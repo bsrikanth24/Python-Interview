{
  "nbformat": 4,
  "nbformat_minor": 0,
  "metadata": {
    "colab": {
      "provenance": [],
      "authorship_tag": "ABX9TyOJhXPAH9BG3rEhSGRE1SU2",
      "include_colab_link": true
    },
    "kernelspec": {
      "name": "python3",
      "display_name": "Python 3"
    },
    "language_info": {
      "name": "python"
    }
  },
  "cells": [
    {
      "cell_type": "markdown",
      "metadata": {
        "id": "view-in-github",
        "colab_type": "text"
      },
      "source": [
        "<a href=\"https://colab.research.google.com/github/bsrikanth24/Python-practice/blob/main/Finding_the_maximum_number_in_a_list_numberList.ipynb\" target=\"_parent\"><img src=\"https://colab.research.google.com/assets/colab-badge.svg\" alt=\"Open In Colab\"/></a>"
      ]
    },
    {
      "cell_type": "code",
      "execution_count": 13,
      "metadata": {
        "colab": {
          "base_uri": "https://localhost:8080/"
        },
        "id": "IIBADkAhcciv",
        "outputId": "7287f3c4-d3c8-4343-f66c-9936e3824549"
      },
      "outputs": [
        {
          "output_type": "stream",
          "name": "stdout",
          "text": [
            "[12, 3, 55, 23, 6, 78, 33, 4] 78\n"
          ]
        }
      ],
      "source": [
        "numberList = [12, 3, 55, 23, 6, 78, 33, 4]\n",
        "max_val = 0\n",
        "idx_max = 0\n",
        "\n",
        "for i in range(len(numberList)):\n",
        "    if numberList[i] > max_val:\n",
        "        max_val = numberList[i]\n",
        "        idx_max = i\n",
        "\n",
        "print(numberList, max_val)\n",
        "# print( max_val)"
      ]
    }
  ]
}