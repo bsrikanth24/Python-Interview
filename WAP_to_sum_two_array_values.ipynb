{
  "nbformat": 4,
  "nbformat_minor": 0,
  "metadata": {
    "colab": {
      "provenance": [],
      "authorship_tag": "ABX9TyPkgV98Tv4BR/pGC7y39Whs",
      "include_colab_link": true
    },
    "kernelspec": {
      "name": "python3",
      "display_name": "Python 3"
    },
    "language_info": {
      "name": "python"
    }
  },
  "cells": [
    {
      "cell_type": "markdown",
      "metadata": {
        "id": "view-in-github",
        "colab_type": "text"
      },
      "source": [
        "<a href=\"https://colab.research.google.com/github/bsrikanth24/Python-practice/blob/main/WAP_to_sum_two_array_values.ipynb\" target=\"_parent\"><img src=\"https://colab.research.google.com/assets/colab-badge.svg\" alt=\"Open In Colab\"/></a>"
      ]
    },
    {
      "cell_type": "code",
      "execution_count": 25,
      "metadata": {
        "colab": {
          "base_uri": "https://localhost:8080/"
        },
        "id": "IIBADkAhcciv",
        "outputId": "903987b4-b280-4380-8379-484dc1e1718a"
      },
      "outputs": [
        {
          "output_type": "stream",
          "name": "stdout",
          "text": [
            "21\n"
          ]
        }
      ],
      "source": [
        "# function defition\n",
        "def array_plus_array(arr1,arr2):\n",
        "    # variable used to add the array membeers\n",
        "    sum = 0\n",
        "\n",
        "    # loop through arr1 and add each item to sum\n",
        "    for item in arr1:\n",
        "        sum += item\n",
        "\n",
        "    # loop through arr2 and add each item to sum\n",
        "    for item in arr2:\n",
        "        sum += item\n",
        "\n",
        "    return sum\n",
        "\n",
        "# simple terminal function call\n",
        "# should print 21\n",
        "print(array_plus_array([1, 2, 3], [4, 5, 6]))"
      ]
    }
  ]
}