{
  "nbformat": 4,
  "nbformat_minor": 0,
  "metadata": {
    "colab": {
      "provenance": [],
      "authorship_tag": "ABX9TyMx89LaWrvdzsdj5kGgACGS",
      "include_colab_link": true
    },
    "kernelspec": {
      "name": "python3",
      "display_name": "Python 3"
    },
    "language_info": {
      "name": "python"
    }
  },
  "cells": [
    {
      "cell_type": "markdown",
      "metadata": {
        "id": "view-in-github",
        "colab_type": "text"
      },
      "source": [
        "<a href=\"https://colab.research.google.com/github/bsrikanth24/Python-practice/blob/main/WAP_to_Generate_fibonacci_numbers_upto_N.ipynb\" target=\"_parent\"><img src=\"https://colab.research.google.com/assets/colab-badge.svg\" alt=\"Open In Colab\"/></a>"
      ]
    },
    {
      "cell_type": "code",
      "execution_count": 7,
      "metadata": {
        "colab": {
          "base_uri": "https://localhost:8080/"
        },
        "id": "IIBADkAhcciv",
        "outputId": "2b5667ca-c861-462f-b7c4-553cd1c84cea"
      },
      "outputs": [
        {
          "output_type": "stream",
          "name": "stdout",
          "text": [
            "Fibonacci sequence up to 10 terms:\n",
            "[0, 1, 1, 2, 3, 5, 8, 13, 21, 34]\n"
          ]
        }
      ],
      "source": [
        "def fibonacci_sequence(n):\n",
        "    if n <= 0:\n",
        "        return []  # Return empty list for non-positive input\n",
        "    elif n == 1:\n",
        "        return [0]  # Only the first Fibonacci number\n",
        "\n",
        "    sequence = [0, 1]  # Starting values\n",
        "    while len(sequence) < n:\n",
        "        next_value = sequence[-1] + sequence[-2]  # Sum of last two numbers\n",
        "        sequence.append(next_value)\n",
        "    return sequence\n",
        "\n",
        "# Example usage:\n",
        "N = 10\n",
        "print(f\"Fibonacci sequence up to {N} terms:\")\n",
        "print(fibonacci_sequence(N))"
      ]
    }
  ]
}