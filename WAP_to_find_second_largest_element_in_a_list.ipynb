{
  "nbformat": 4,
  "nbformat_minor": 0,
  "metadata": {
    "colab": {
      "provenance": [],
      "authorship_tag": "ABX9TyMtXvxh3AgGqaDjwd9iu9wz",
      "include_colab_link": true
    },
    "kernelspec": {
      "name": "python3",
      "display_name": "Python 3"
    },
    "language_info": {
      "name": "python"
    }
  },
  "cells": [
    {
      "cell_type": "markdown",
      "metadata": {
        "id": "view-in-github",
        "colab_type": "text"
      },
      "source": [
        "<a href=\"https://colab.research.google.com/github/bsrikanth24/Python-Interview/blob/main/WAP_to_find_second_largest_element_in_a_list.ipynb\" target=\"_parent\"><img src=\"https://colab.research.google.com/assets/colab-badge.svg\" alt=\"Open In Colab\"/></a>"
      ]
    },
    {
      "cell_type": "markdown",
      "source": [
        "1. Initialization:\n",
        "first = second = float('-inf')\n",
        "Here, both first and second are set to negative infinity. This ensures that any number in the list will be larger than these initial values.\n",
        "\n",
        "2. Loop Through the List:\n",
        "for n in numbers:\n",
        "The code iterates through each number n in the input list.\n",
        "\n",
        "3. Update Largest and Second Largest:\n",
        "\n",
        "  if n > first:\n",
        "\n",
        "  If the current number n is greater than first (the largest so far), then:\n",
        "\n",
        "  second = first — the previous largest becomes the second largest.\n",
        "\n",
        "  first = n — update the largest to the current number.\n",
        "\n",
        "  elif first > n > second:\n",
        "    If n is not the largest, but is greater than the current second largest (second), then:\n",
        "    second = n — update the second largest.\n",
        "\n",
        "4. Return the Result:\n",
        "return second if second != float('-inf') else None"
      ],
      "metadata": {
        "id": "JC3nLwptDUwu"
      }
    },
    {
      "cell_type": "code",
      "execution_count": 1,
      "metadata": {
        "colab": {
          "base_uri": "https://localhost:8080/"
        },
        "id": "8FYRdgrgDLk4",
        "outputId": "e4d5ce34-8703-491d-8c7b-1e339617f97f"
      },
      "outputs": [
        {
          "output_type": "stream",
          "name": "stdout",
          "text": [
            "7\n"
          ]
        }
      ],
      "source": [
        "def second_largest(numbers):\n",
        "    first = second = float('-inf')\n",
        "    for n in numbers:\n",
        "        if n > first:\n",
        "            second = first\n",
        "            first = n\n",
        "        elif first > n > second:\n",
        "            second = n\n",
        "    return second if second != float('-inf') else None\n",
        "\n",
        "nums = [4, 1, 7, 3, 9, 9]\n",
        "print(second_largest(nums))"
      ]
    }
  ]
}