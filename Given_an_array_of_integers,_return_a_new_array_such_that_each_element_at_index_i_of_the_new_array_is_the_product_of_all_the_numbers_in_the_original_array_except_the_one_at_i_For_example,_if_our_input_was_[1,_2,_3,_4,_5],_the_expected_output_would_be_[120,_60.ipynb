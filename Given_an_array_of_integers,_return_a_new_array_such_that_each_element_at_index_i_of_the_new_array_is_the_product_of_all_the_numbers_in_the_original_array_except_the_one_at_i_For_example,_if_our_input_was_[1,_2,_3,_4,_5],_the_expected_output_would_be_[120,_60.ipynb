{
  "nbformat": 4,
  "nbformat_minor": 0,
  "metadata": {
    "colab": {
      "provenance": [],
      "authorship_tag": "ABX9TyPTdjtkKzs6eCFZrWfBo6wU",
      "include_colab_link": true
    },
    "kernelspec": {
      "name": "python3",
      "display_name": "Python 3"
    },
    "language_info": {
      "name": "python"
    }
  },
  "cells": [
    {
      "cell_type": "markdown",
      "metadata": {
        "id": "view-in-github",
        "colab_type": "text"
      },
      "source": [
        "<a href=\"https://colab.research.google.com/github/bsrikanth24/Python-practice/blob/main/Given_an_array_of_integers%2C_return_a_new_array_such_that_each_element_at_index_i_of_the_new_array_is_the_product_of_all_the_numbers_in_the_original_array_except_the_one_at_i_For_example%2C_if_our_input_was_%5B1%2C_2%2C_3%2C_4%2C_5%5D%2C_the_expected_output_would_be_%5B120%2C_60.ipynb\" target=\"_parent\"><img src=\"https://colab.research.google.com/assets/colab-badge.svg\" alt=\"Open In Colab\"/></a>"
      ]
    },
    {
      "cell_type": "code",
      "execution_count": 31,
      "metadata": {
        "colab": {
          "base_uri": "https://localhost:8080/"
        },
        "id": "IIBADkAhcciv",
        "outputId": "d3031a28-f60a-46f0-c1a0-e32da3698163"
      },
      "outputs": [
        {
          "output_type": "stream",
          "name": "stdout",
          "text": [
            "[24, 12, 8, 6]\n"
          ]
        }
      ],
      "source": [
        "nums = [1, 2, 3, 4]\n",
        "\n",
        "def productExceptSelf(nums):\n",
        "    p = 1\n",
        "    n = len(nums)\n",
        "    result = []\n",
        "    for i in range(0,n):\n",
        "        result.append(p)\n",
        "        p = p * nums[i]\n",
        "    s = 1\n",
        "    for i in range(n-1,-1,-1):\n",
        "        result[i] = result[i] * s\n",
        "        s = s * nums[i]\n",
        "    return result\n",
        "\n",
        "print(productExceptSelf(nums))"
      ]
    }
  ]
}